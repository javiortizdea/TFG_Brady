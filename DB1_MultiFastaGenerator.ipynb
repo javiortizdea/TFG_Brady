{
 "cells": [
  {
   "cell_type": "markdown",
   "id": "e2de9dcb",
   "metadata": {},
   "source": [
    "Javier Ortiz de Artiñano. Trabajo de Fin de Grado 2023.\n",
    "\n",
    "This script reads a bunch of downloaded genome assemblies (found in /data/assemblies), takes the CDS loci and writes them in a single multifasta file. This script should be run after 'DBGenerator.bash'."
   ]
  },
  {
   "cell_type": "code",
   "execution_count": 2,
   "id": "532aa4d9",
   "metadata": {},
   "outputs": [],
   "source": [
    "# Packages\n",
    "import sys, os\n",
    "import re\n",
    "from Bio import SeqIO,Seq"
   ]
  },
  {
   "cell_type": "markdown",
   "id": "766cdf22",
   "metadata": {},
   "source": [
    "The project directory, which must contain inside a data/ folder, and within a assemblies/ folder, which must contain the assemblies. Only the genomic.gbff files will be considered."
   ]
  },
  {
   "cell_type": "code",
   "execution_count": 2,
   "id": "36d8378b",
   "metadata": {},
   "outputs": [],
   "source": [
    "# SPECIFY HERE YOUR PROJECT DIRECTORY\n",
    "project_directory = ''"
   ]
  },
  {
   "cell_type": "code",
   "execution_count": 3,
   "id": "9567f73e",
   "metadata": {},
   "outputs": [],
   "source": [
    "directory = project_directory + 'data/assemblies'\n",
    "multifasta_file = open('DB1.fasta', 'w')"
   ]
  },
  {
   "cell_type": "code",
   "execution_count": 31,
   "id": "85f567f0",
   "metadata": {},
   "outputs": [],
   "source": [
    "for assembly in os.listdir(directory):\n",
    "    for filename in os.listdir(directory+'/'+assembly):\n",
    "        if filename.endswith(\"genomic.gbff\"):\n",
    "            genome_path = os.path.join(directory,assembly,filename)\n",
    "            records = SeqIO.parse(genome_path,\"genbank\")\n",
    "            assemblyAccn = assembly[:15]\n",
    "            \n",
    "            for record in records:\n",
    "                contig = record.id\n",
    "                \n",
    "                for feature in record.features:\n",
    "                    if feature.type == \"CDS\":\n",
    "                        locus = feature.qualifiers[\"locus_tag\"][0]\n",
    "                        try:\n",
    "                            protein = feature.qualifiers[\"translation\"][0]\n",
    "                            multifasta_file.write(\">\"+assemblyAccn + \"!\" + contig+\"@\"+locus+\"\\n\"+protein+\"\\n\")\n",
    "                        except:\n",
    "                            continue\n",
    "multifasta_file.close()"
   ]
  }
 ],
 "metadata": {
  "kernelspec": {
   "display_name": "Python 3 (ipykernel)",
   "language": "python",
   "name": "python3"
  },
  "language_info": {
   "codemirror_mode": {
    "name": "ipython",
    "version": 3
   },
   "file_extension": ".py",
   "mimetype": "text/x-python",
   "name": "python",
   "nbconvert_exporter": "python",
   "pygments_lexer": "ipython3",
   "version": "3.8.10"
  }
 },
 "nbformat": 4,
 "nbformat_minor": 5
}
