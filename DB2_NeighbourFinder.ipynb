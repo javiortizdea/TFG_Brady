{
 "cells": [
  {
   "cell_type": "markdown",
   "id": "aeef0e9c",
   "metadata": {},
   "source": [
    "Javier Ortiz de Artiñano. Trabajo de Fin de Grado 2023.\n",
    "\n",
    "This script reads a bunch of downloaded genome assemblies (found in /data/assemblies) and a fasta file with $hcp$, $vgrG$ and $tssB$ locus names. Then, it takes the neighbor CDS loci of the specified loci from the genomes and writes their name. This script should be run after 'DBGenerator.bash'. It also requires a HcpVgrGTssB_loci.fasta file (found in /data)."
   ]
  },
  {
   "cell_type": "code",
   "execution_count": 1,
   "id": "532aa4d9",
   "metadata": {},
   "outputs": [],
   "source": [
    "# Packages\n",
    "import sys, os\n",
    "import re\n",
    "from Bio import SeqIO,Seq"
   ]
  },
  {
   "cell_type": "code",
   "execution_count": 7,
   "id": "28595eb8",
   "metadata": {},
   "outputs": [],
   "source": [
    "# Takes as input a genomic .gbff file and parses it. Generates a list with all CDS locus names and a dictionary with information of all loci.\n",
    "# The dictionary has as keys the locus names, and as values a list with the following elements:\n",
    "# 0: strand; 1: product (empty if None); 2: start; 3:end; 4: gene name (empty if None); 5: contig name\n",
    "def make_list_and_dict(input_file):\n",
    "    list_of_genes = []\n",
    "    dict_of_genes = {}\n",
    "    \n",
    "    with open(input_file,\"r\") as input_handle:\n",
    "        for record in SeqIO.parse(input_handle,\"genbank\"):\n",
    "            for feature in record.features:\n",
    "                if feature.type == 'CDS':\n",
    "                    locus_tag = feature.qualifiers['locus_tag'][0]\n",
    "                    list_of_genes.append(locus_tag)\n",
    "                    start = feature.location.start\n",
    "                    end = feature.location.end\n",
    "                    strand = feature.location.strand\n",
    "                    contig_name = record.id\n",
    "                    try:\n",
    "                        gene = feature.qualifiers['gene'][0]\n",
    "                    except:\n",
    "                        gene = \"NA\"\n",
    "                    try:\n",
    "                        product = feature.qualifiers['product'][0]\n",
    "                    except:\n",
    "                        product = \"NA\"\n",
    "                    dict_of_genes[locus_tag] = [strand,product,start,end,gene,contig_name]\n",
    "    return dict_of_genes, list_of_genes\n",
    "\n",
    "# Returns the neighbourhood loci of a specified locus. n_context specifies \n",
    "# how many neighbor loci are taken at each side\n",
    "def get_genomic_neighbourhood_list(locus, list_of_genes, n_context):\n",
    "    if locus not in list_of_genes:\n",
    "        print('Locus',locus, 'is not valid')\n",
    "        return\n",
    "    neighbourhood_list=[]\n",
    "    pos_locus = list_of_genes.index(locus)\n",
    "    for i in range(pos_locus-n_context,pos_locus+n_context+1):\n",
    "        neighbourhood_list.append(list_of_genes[i])\n",
    "    return neighbourhood_list"
   ]
  },
  {
   "cell_type": "code",
   "execution_count": 2,
   "id": "bf44ab1c",
   "metadata": {},
   "outputs": [],
   "source": [
    "# SPECIFY HERE YOUR PROJECT DIRECTORY\n",
    "project_directory = ''"
   ]
  },
  {
   "cell_type": "markdown",
   "id": "fb2c8ccf",
   "metadata": {},
   "source": [
    "Obtain a text file with the name and location of every genomic.gbff file."
   ]
  },
  {
   "cell_type": "code",
   "execution_count": 105,
   "id": "233ad1d0",
   "metadata": {},
   "outputs": [],
   "source": [
    "regex = re.compile(r'.*genomic.gbff')\n",
    "with open(project_directory + \"/data/genbank_files.txt\", \"w\") as fd:\n",
    "    for root, dirs, files in os.walk(project_directory + \"/data/assemblies\"):\n",
    "        for file in files:\n",
    "            if regex.match(file):\n",
    "                fd.write(f\"{root}/{file}\\n\")"
   ]
  },
  {
   "cell_type": "markdown",
   "id": "e13ef0d8",
   "metadata": {},
   "source": [
    "Obtain the locus names file, all_context_loci.txt. Format:\n",
    "\n",
    "assembly_name!contig_id@locus_name"
   ]
  },
  {
   "cell_type": "code",
   "execution_count": 2,
   "id": "490e3998",
   "metadata": {},
   "outputs": [
    {
     "ename": "NameError",
     "evalue": "name 'SeqIO' is not defined",
     "output_type": "error",
     "traceback": [
      "\u001b[0;31m---------------------------------------------------------------------------\u001b[0m",
      "\u001b[0;31mNameError\u001b[0m                                 Traceback (most recent call last)",
      "Cell \u001b[0;32mIn [2], line 3\u001b[0m\n\u001b[1;32m      1\u001b[0m all_context_loci \u001b[38;5;241m=\u001b[39m []\n\u001b[0;32m----> 3\u001b[0m all_hcp_vgrG_tssB_loci \u001b[38;5;241m=\u001b[39m \u001b[43mSeqIO\u001b[49m\u001b[38;5;241m.\u001b[39mparse(project_directory \u001b[38;5;241m+\u001b[39m \u001b[38;5;124m\"\u001b[39m\u001b[38;5;124m/data/HcpVgrGTssB_loci.fasta\u001b[39m\u001b[38;5;124m\"\u001b[39m, \u001b[38;5;124m\"\u001b[39m\u001b[38;5;124mfasta\u001b[39m\u001b[38;5;124m\"\u001b[39m)\n\u001b[1;32m      4\u001b[0m list_of_assembly_files \u001b[38;5;241m=\u001b[39m []\n\u001b[1;32m      5\u001b[0m \u001b[38;5;28;01mwith\u001b[39;00m \u001b[38;5;28mopen\u001b[39m(\u001b[38;5;124m\"\u001b[39m\u001b[38;5;124mproy1/data/all_context_loci.txt\u001b[39m\u001b[38;5;124m\"\u001b[39m, \u001b[38;5;124m\"\u001b[39m\u001b[38;5;124mw\u001b[39m\u001b[38;5;124m\"\u001b[39m) \u001b[38;5;28;01mas\u001b[39;00m fd, \u001b[38;5;28mopen\u001b[39m(\u001b[38;5;124m\"\u001b[39m\u001b[38;5;124mgenbank_files.txt\u001b[39m\u001b[38;5;124m\"\u001b[39m, \u001b[38;5;124m\"\u001b[39m\u001b[38;5;124mr\u001b[39m\u001b[38;5;124m\"\u001b[39m) \u001b[38;5;28;01mas\u001b[39;00m genbank_files:\n",
      "\u001b[0;31mNameError\u001b[0m: name 'SeqIO' is not defined"
     ]
    }
   ],
   "source": [
    "all_context_loci = []\n",
    "\n",
    "all_hcp_vgrG_tssB_loci = SeqIO.parse(project_directory + \"/data/HcpVgrGTssB_loci.fasta\", \"fasta\")\n",
    "list_of_assembly_files = []\n",
    "with open(project_directory + \"/data/all_context_loci.txt\", \"w\") as fd, open(project_directory + \"/data/genbank_files.txt\", \"r\") as genbank_files:\n",
    "    for assembly_file in genbank_files:\n",
    "        list_of_assembly_files.append(assembly_file)\n",
    "    for assembly_locus in all_hcp_vgrG_tssB_loci:\n",
    "        assembly_name = re.sub(r'!.*$','',assembly_locus.id)\n",
    "        for assembly_file in list_of_assembly_files:\n",
    "            if assembly_name not in assembly_file:\n",
    "                continue\n",
    "            locus = re.sub(r'^.*@','',assembly_locus.id)\n",
    "            dict_of_genes, list_of_genes = make_list_and_dict(assembly_file[:-1])\n",
    "            neighbours_list = get_genomic_neighbourhood_list(locus, list_of_genes, 25) #25 neighbors at each side\n",
    "            for neighbour in neighbours_list:\n",
    "                if dict_of_genes[neighbour][5] != dict_of_genes[locus][5]: #checks that they are in the same contig\n",
    "                    continue\n",
    "                fd.write(f\"{assembly_name}!{dict_of_genes[neighbour][5]}@{neighbour}\\n\")\n",
    "            break"
   ]
  },
  {
   "cell_type": "markdown",
   "id": "3a44123e",
   "metadata": {},
   "source": [
    "From all_context_loci.txt, obtaining the sequences from the first multifasta file is trivial (just convert both files to tsv format, sort them and join them in bash. Then, use the following command to change the format to fasta and finally get DB2)."
   ]
  },
  {
   "cell_type": "code",
   "execution_count": 14,
   "id": "c63cafce",
   "metadata": {},
   "outputs": [
    {
     "data": {
      "text/plain": [
       "16601"
      ]
     },
     "execution_count": 14,
     "metadata": {},
     "output_type": "execute_result"
    }
   ],
   "source": [
    "SeqIO.convert(project_directory + \"/data/brady_T6SS_context.tsv\", \"tab\", project_directory + \"/data/DB2.fasta\", \"fasta\")"
   ]
  }
 ],
 "metadata": {
  "kernelspec": {
   "display_name": "Python 3 (ipykernel)",
   "language": "python",
   "name": "python3"
  },
  "language_info": {
   "codemirror_mode": {
    "name": "ipython",
    "version": 3
   },
   "file_extension": ".py",
   "mimetype": "text/x-python",
   "name": "python",
   "nbconvert_exporter": "python",
   "pygments_lexer": "ipython3",
   "version": "3.8.10"
  }
 },
 "nbformat": 4,
 "nbformat_minor": 5
}
